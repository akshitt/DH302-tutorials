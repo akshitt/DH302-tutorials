{
 "cells": [
  {
   "cell_type": "markdown",
   "metadata": {
    "id": "view-in-github",
    "colab_type": "text",
    "pycharm": {
     "name": "#%% md\n"
    }
   },
   "source": [
    "<a href=\"https://colab.research.google.com/github/akshitt/DH302-tutorials/blob/main/PneumoniaMNIST.ipynb\" target=\"_parent\"><img src=\"https://colab.research.google.com/assets/colab-badge.svg\" alt=\"Open In Colab\"/></a>"
   ]
  },
  {
   "cell_type": "markdown",
   "source": [
    "### Loading Libraries & Dataset"
   ],
   "metadata": {
    "id": "gf1Y9EsVMMig",
    "pycharm": {
     "name": "#%% md\n"
    }
   }
  },
  {
   "cell_type": "code",
   "execution_count": 12,
   "metadata": {
    "id": "BHLGpHlH8fub",
    "pycharm": {
     "name": "#%%\n"
    }
   },
   "outputs": [
    {
     "name": "stdout",
     "output_type": "stream",
     "text": [
      "Requirement already satisfied: medmnist in c:\\users\\atharv_savarkar\\appdata\\local\\programs\\python\\python39\\lib\\site-packages (2.0.2)\n",
      "Requirement already satisfied: torchvision in c:\\users\\atharv_savarkar\\appdata\\local\\programs\\python\\python39\\lib\\site-packages (from medmnist) (0.11.2)\n",
      "Requirement already satisfied: scikit-learn in c:\\users\\atharv_savarkar\\appdata\\local\\programs\\python\\python39\\lib\\site-packages (from medmnist) (1.0.2)\n",
      "Requirement already satisfied: Pillow in c:\\users\\atharv_savarkar\\appdata\\local\\programs\\python\\python39\\lib\\site-packages (from medmnist) (9.0.0)\n",
      "Requirement already satisfied: numpy in c:\\users\\atharv_savarkar\\appdata\\local\\programs\\python\\python39\\lib\\site-packages (from medmnist) (1.21.5)\n",
      "Requirement already satisfied: tqdm in c:\\users\\atharv_savarkar\\appdata\\local\\programs\\python\\python39\\lib\\site-packages (from medmnist) (4.62.3)\n",
      "Requirement already satisfied: pandas in c:\\users\\atharv_savarkar\\appdata\\local\\programs\\python\\python39\\lib\\site-packages (from medmnist) (1.4.0)\n",
      "Requirement already satisfied: fire in c:\\users\\atharv_savarkar\\appdata\\local\\programs\\python\\python39\\lib\\site-packages (from medmnist) (0.4.0)\n",
      "Requirement already satisfied: scikit-image in c:\\users\\atharv_savarkar\\appdata\\local\\programs\\python\\python39\\lib\\site-packages (from medmnist) (0.19.1)\n",
      "Requirement already satisfied: torch in c:\\users\\atharv_savarkar\\appdata\\local\\programs\\python\\python39\\lib\\site-packages (from medmnist) (1.10.1)\n",
      "Requirement already satisfied: six in c:\\users\\atharv_savarkar\\appdata\\local\\programs\\python\\python39\\lib\\site-packages (from fire->medmnist) (1.16.0)\n",
      "Requirement already satisfied: termcolor in c:\\users\\atharv_savarkar\\appdata\\local\\programs\\python\\python39\\lib\\site-packages (from fire->medmnist) (1.1.0)\n",
      "Requirement already satisfied: pytz>=2020.1 in c:\\users\\atharv_savarkar\\appdata\\local\\programs\\python\\python39\\lib\\site-packages (from pandas->medmnist) (2021.3)\n",
      "Requirement already satisfied: python-dateutil>=2.8.1 in c:\\users\\atharv_savarkar\\appdata\\local\\programs\\python\\python39\\lib\\site-packages (from pandas->medmnist) (2.8.2)\n",
      "Requirement already satisfied: tifffile>=2019.7.26 in c:\\users\\atharv_savarkar\\appdata\\local\\programs\\python\\python39\\lib\\site-packages (from scikit-image->medmnist) (2022.2.9)\n",
      "Requirement already satisfied: scipy>=1.4.1 in c:\\users\\atharv_savarkar\\appdata\\local\\programs\\python\\python39\\lib\\site-packages (from scikit-image->medmnist) (1.7.3)\n",
      "Requirement already satisfied: imageio>=2.4.1 in c:\\users\\atharv_savarkar\\appdata\\local\\programs\\python\\python39\\lib\\site-packages (from scikit-image->medmnist) (2.15.0)\n",
      "Requirement already satisfied: networkx>=2.2 in c:\\users\\atharv_savarkar\\appdata\\local\\programs\\python\\python39\\lib\\site-packages (from scikit-image->medmnist) (2.6.3)\n",
      "Requirement already satisfied: PyWavelets>=1.1.1 in c:\\users\\atharv_savarkar\\appdata\\local\\programs\\python\\python39\\lib\\site-packages (from scikit-image->medmnist) (1.2.0)\n",
      "Requirement already satisfied: packaging>=20.0 in c:\\users\\atharv_savarkar\\appdata\\local\\programs\\python\\python39\\lib\\site-packages (from scikit-image->medmnist) (21.3)"
     ]
    },
    {
     "name": "stderr",
     "output_type": "stream",
     "text": [
      "WARNING: You are using pip version 22.0.4; however, version 22.2 is available.\n",
      "You should consider upgrading via the 'c:\\users\\atharv_savarkar\\appdata\\local\\programs\\python\\python39\\python.exe -m pip install --upgrade pip' command.\n"
     ]
    },
    {
     "name": "stdout",
     "output_type": "stream",
     "text": [
      "\n",
      "Requirement already satisfied: threadpoolctl>=2.0.0 in c:\\users\\atharv_savarkar\\appdata\\local\\programs\\python\\python39\\lib\\site-packages (from scikit-learn->medmnist) (3.0.0)\n",
      "Requirement already satisfied: joblib>=0.11 in c:\\users\\atharv_savarkar\\appdata\\local\\programs\\python\\python39\\lib\\site-packages (from scikit-learn->medmnist) (1.1.0)\n",
      "Requirement already satisfied: typing-extensions in c:\\users\\atharv_savarkar\\appdata\\local\\programs\\python\\python39\\lib\\site-packages (from torch->medmnist) (3.10.0.2)\n",
      "Requirement already satisfied: colorama in c:\\users\\atharv_savarkar\\appdata\\local\\programs\\python\\python39\\lib\\site-packages (from tqdm->medmnist) (0.4.4)\n",
      "Requirement already satisfied: pyparsing!=3.0.5,>=2.0.2 in c:\\users\\atharv_savarkar\\appdata\\local\\programs\\python\\python39\\lib\\site-packages (from packaging>=20.0->scikit-image->medmnist) (3.0.6)\n"
     ]
    }
   ],
   "source": [
    "!pip install medmnist"
   ]
  },
  {
   "cell_type": "code",
   "execution_count": 13,
   "metadata": {
    "id": "9NOCOzjf8fud",
    "pycharm": {
     "name": "#%%\n"
    }
   },
   "outputs": [],
   "source": [
    "from tqdm import tqdm\n",
    "import numpy as np\n",
    "import torch\n",
    "import torch.nn as nn\n",
    "import torch.optim as optim\n",
    "import torch.utils.data as data\n",
    "import torchvision.transforms as transforms\n",
    "\n",
    "import medmnist\n",
    "from medmnist import INFO, Evaluator\n",
    "\n",
    "from matplotlib import pyplot as plt\n",
    "\n",
    "# from google.colab import drive\n",
    "# drive.mount('/content/drive')"
   ]
  },
  {
   "cell_type": "code",
   "execution_count": 14,
   "metadata": {
    "id": "0uj5U4cF8fue",
    "outputId": "9f0611fc-3996-4b22-8fc4-54abfe8dc5d5",
    "colab": {
     "base_uri": "https://localhost:8080/"
    },
    "pycharm": {
     "name": "#%%\n"
    }
   },
   "outputs": [
    {
     "name": "stdout",
     "output_type": "stream",
     "text": [
      "MedMNIST v2.0.2 @ https://github.com/MedMNIST/MedMNIST/\n"
     ]
    }
   ],
   "source": [
    "print(f\"MedMNIST v{medmnist.__version__} @ {medmnist.HOMEPAGE}\")"
   ]
  },
  {
   "cell_type": "code",
   "execution_count": 15,
   "metadata": {
    "id": "YhPdqg6v8fug",
    "pycharm": {
     "name": "#%%\n"
    }
   },
   "outputs": [],
   "source": [
    "data_flag = 'bloodmnist'\n",
    "download = True\n",
    "\n",
    "info = INFO[data_flag]\n",
    "task = info['task']\n",
    "n_channels = info['n_channels']\n",
    "n_classes = len(info['label'])\n",
    "\n",
    "DataClass = getattr(medmnist, info['python_class'])"
   ]
  },
  {
   "cell_type": "code",
   "execution_count": 16,
   "metadata": {
    "id": "uhp40RPd8fuh",
    "outputId": "5928d1b0-db55-4a3e-ff98-bd16d32638da",
    "colab": {
     "base_uri": "https://localhost:8080/"
    },
    "pycharm": {
     "name": "#%%\n"
    }
   },
   "outputs": [
    {
     "name": "stdout",
     "output_type": "stream",
     "text": [
      "Using downloaded and verified file: C:\\Users\\atharv_savarkar\\.medmnist\\bloodmnist.npz\n",
      "Using downloaded and verified file: C:\\Users\\atharv_savarkar\\.medmnist\\bloodmnist.npz\n",
      "Using downloaded and verified file: C:\\Users\\atharv_savarkar\\.medmnist\\bloodmnist.npz\n",
      "Dataset BloodMNIST (bloodmnist)\n",
      "    Number of datapoints: 11959\n",
      "    Root location: C:\\Users\\atharv_savarkar\\.medmnist\n",
      "    Split: train\n",
      "    Task: multi-class\n",
      "    Number of channels: 3\n",
      "    Meaning of labels: {'0': 'basophil', '1': 'eosinophil', '2': 'erythroblast', '3': 'ig', '4': 'lymphocyte', '5': 'monocyte', '6': 'neutrophil', '7': 'platelet'}\n",
      "    Number of samples: {'train': 11959, 'val': 1712, 'test': 3421}\n",
      "    Description: The BloodMNIST is based on a dataset of individual normal cells, captured from individuals without infection, hematologic or oncologic disease and free of any pharmacologic treatment at the moment of blood collection. It contains a total of 17,092 images and is organized into 8 classes. We split the source dataset with a ratio of 7:1:2 into training, validation and test set. The source images with resolution 3×360×363 pixels are center-cropped into 3×200×200, and then resized into 3×28×28.\n",
      "    License: CC BY 4.0\n"
     ]
    }
   ],
   "source": [
    "# preprocessing\n",
    "data_transform = transforms.Compose([\n",
    "    transforms.ToTensor(),\n",
    "    transforms.Normalize(mean=[.5], std=[.5])\n",
    "])\n",
    "\n",
    "# load the data\n",
    "train_dataset = DataClass(split='train', transform=data_transform, download=download)\n",
    "test_dataset = DataClass(split='test', transform=data_transform, download=download)\n",
    "\n",
    "pil_dataset = DataClass(split='train', download=download)\n",
    "\n",
    "print(train_dataset)"
   ]
  },
  {
   "cell_type": "markdown",
   "source": [
    "### EDA of BloodMNIST"
   ],
   "metadata": {
    "id": "V5bGIdNIHcY_",
    "pycharm": {
     "name": "#%% md\n"
    }
   }
  },
  {
   "cell_type": "code",
   "source": [
    "label = {\n",
    "            0: \"basophil\",\n",
    "            1: \"eosinophil\",\n",
    "            2: \"erythroblast\",\n",
    "            3: \"immature granulocytes(myelocytes, metamyelocytes and promyelocytes)\",\n",
    "            4: \"lymphocyte\",\n",
    "            5: \"monocyte\",\n",
    "            6: \"neutrophil\",\n",
    "            7: \"platelet\"\n",
    "        }\n",
    "\n",
    "x, y = train_dataset[5]\n",
    "x=np.array(np.average(x, axis=0))\n",
    "y=int(y)\n",
    "print(\"Dimensions of image =\",x.shape)\n",
    "print(\"Label =\",label[y])\n",
    "plt.imshow(x,cmap='gray')\n",
    "plt.show()"
   ],
   "metadata": {
    "colab": {
     "base_uri": "https://localhost:8080/",
     "height": 300
    },
    "id": "QJDgeExBHb-_",
    "outputId": "72b56529-fe57-4adc-d0a9-b431bdecae0f",
    "pycharm": {
     "name": "#%%\n"
    }
   },
   "execution_count": 17,
   "outputs": [
    {
     "name": "stdout",
     "output_type": "stream",
     "text": [
      "Dimensions of image = (28, 28)\n",
      "Label = neutrophil\n"
     ]
    },
    {
     "data": {
      "text/plain": "<Figure size 432x288 with 1 Axes>",
      "image/png": "[encoded data removed]"
     },
     "metadata": {
      "needs_background": "light"
     },
     "output_type": "display_data"
    }
   ]
  },
  {
   "cell_type": "code",
   "source": [
    "x, y = train_dataset[6]\n",
    "x=np.array(np.average(x, axis=0))\n",
    "y=int(y)\n",
    "print(\"Dimensions of image =\",x.shape)\n",
    "print(\"Label =\",label[y])\n",
    "plt.imshow(x,cmap='gray')\n",
    "plt.show()"
   ],
   "metadata": {
    "colab": {
     "base_uri": "https://localhost:8080/",
     "height": 300
    },
    "id": "dFGYGPvcIS-B",
    "outputId": "56ff1a04-ab00-4436-ac0c-101ea917c301",
    "pycharm": {
     "name": "#%%\n"
    }
   },
   "execution_count": 18,
   "outputs": [
    {
     "name": "stdout",
     "output_type": "stream",
     "text": [
      "Dimensions of image = (28, 28)\n",
      "Label = erythroblast\n"
     ]
    },
    {
     "data": {
      "text/plain": "<Figure size 432x288 with 1 Axes>",
      "image/png": "[encoded data removed]"
     },
     "metadata": {
      "needs_background": "light"
     },
     "output_type": "display_data"
    }
   ]
  },
  {
   "cell_type": "markdown",
   "source": [
    "### Training CNN model on MedMNIST"
   ],
   "metadata": {
    "id": "1JVScG3NG10L",
    "pycharm": {
     "name": "#%% md\n"
    }
   }
  },
  {
   "cell_type": "code",
   "execution_count": 19,
   "metadata": {
    "id": "-dF7k4-e8fui",
    "pycharm": {
     "name": "#%%\n"
    }
   },
   "outputs": [],
   "source": [
    "NUM_EPOCHS = 3\n",
    "BATCH_SIZE = 128\n",
    "lr = 0.001\n",
    "\n",
    "# encapsulate data into dataloader form\n",
    "train_loader = data.DataLoader(dataset=train_dataset, batch_size=BATCH_SIZE, shuffle=True)\n",
    "train_loader_at_eval = data.DataLoader(dataset=train_dataset, batch_size=2*BATCH_SIZE, shuffle=False)\n",
    "test_loader = data.DataLoader(dataset=test_dataset, batch_size=2*BATCH_SIZE, shuffle=False)\n"
   ]
  },
  {
   "cell_type": "code",
   "execution_count": 20,
   "metadata": {
    "id": "a3x82zOa8fuk",
    "pycharm": {
     "name": "#%%\n"
    }
   },
   "outputs": [],
   "source": [
    "# define a simple CNN model\n",
    "\n",
    "class Net(nn.Module):\n",
    "    def __init__(self, in_channels, num_classes):\n",
    "        super(Net, self).__init__()\n",
    "\n",
    "        self.layer1 = nn.Sequential(\n",
    "            nn.Conv2d(in_channels, 16, kernel_size=3),\n",
    "            nn.BatchNorm2d(16),\n",
    "            nn.ReLU())\n",
    "\n",
    "        self.layer2 = nn.Sequential(\n",
    "            nn.Conv2d(16, 16, kernel_size=3),\n",
    "            nn.BatchNorm2d(16),\n",
    "            nn.ReLU(),\n",
    "            nn.MaxPool2d(kernel_size=2, stride=2))\n",
    "\n",
    "        self.layer3 = nn.Sequential(\n",
    "            nn.Conv2d(16, 64, kernel_size=3),\n",
    "            nn.BatchNorm2d(64),\n",
    "            nn.ReLU())\n",
    "        \n",
    "        self.layer4 = nn.Sequential(\n",
    "            nn.Conv2d(64, 64, kernel_size=3),\n",
    "            nn.BatchNorm2d(64),\n",
    "            nn.ReLU())\n",
    "\n",
    "        self.layer5 = nn.Sequential(\n",
    "            nn.Conv2d(64, 64, kernel_size=3, padding=1),\n",
    "            nn.BatchNorm2d(64),\n",
    "            nn.ReLU(),\n",
    "            nn.MaxPool2d(kernel_size=2, stride=2))\n",
    "\n",
    "        self.fc = nn.Sequential(\n",
    "            nn.Linear(64 * 4 * 4, 128),\n",
    "            nn.ReLU(),\n",
    "            nn.Linear(128, 128),\n",
    "            nn.ReLU(),\n",
    "            nn.Linear(128, num_classes))\n",
    "\n",
    "    def forward(self, x):\n",
    "        x = self.layer1(x)\n",
    "        x = self.layer2(x)\n",
    "        x = self.layer3(x)\n",
    "        x = self.layer4(x)\n",
    "        x = self.layer5(x)\n",
    "        x = x.view(x.size(0), -1)\n",
    "        x = self.fc(x)\n",
    "        return x\n",
    "\n",
    "model = Net(in_channels=n_channels, num_classes=n_classes)\n",
    "    \n",
    "# define loss function and optimizer\n",
    "if task == \"multi-label, binary-class\":\n",
    "    criterion = nn.BCEWithLogitsLoss()\n",
    "else:\n",
    "    criterion = nn.CrossEntropyLoss()\n",
    "    \n",
    "optimizer = optim.SGD(model.parameters(), lr=lr, momentum=0.9)"
   ]
  },
  {
   "cell_type": "code",
   "execution_count": 21,
   "metadata": {
    "scrolled": true,
    "id": "2qa-W80-8ful",
    "outputId": "14053cf0-92f8-40b9-9511-3b6c95c7fbc6",
    "pycharm": {
     "name": "#%%\n"
    }
   },
   "outputs": [
    {
     "name": "stderr",
     "output_type": "stream",
     "text": [
      "100%|██████████| 94/94 [00:39<00:00,  2.39it/s]\n",
      "100%|██████████| 94/94 [00:39<00:00,  2.37it/s]\n",
      "100%|██████████| 94/94 [00:55<00:00,  1.70it/s]\n"
     ]
    }
   ],
   "source": [
    "# train\n",
    "\n",
    "for epoch in range(NUM_EPOCHS):\n",
    "    train_correct = 0\n",
    "    train_total = 0\n",
    "    test_correct = 0\n",
    "    test_total = 0\n",
    "    \n",
    "    model.train()\n",
    "    for inputs, targets in tqdm(train_loader):\n",
    "        # forward + backward + optimize\n",
    "        optimizer.zero_grad()\n",
    "        outputs = model(inputs)\n",
    "        \n",
    "        if task == 'multi-label, binary-class':\n",
    "            targets = targets.to(torch.float32)\n",
    "            loss = criterion(outputs, targets)\n",
    "        else:\n",
    "            targets = targets.squeeze().long()\n",
    "            loss = criterion(outputs, targets)\n",
    "        \n",
    "        loss.backward()\n",
    "        optimizer.step()"
   ]
  },
  {
   "cell_type": "code",
   "execution_count": 22,
   "metadata": {
    "id": "8Bh4DWcx8ful",
    "outputId": "c60136d0-5a54-4ce5-f891-d2addbb1ef17",
    "pycharm": {
     "name": "#%%\n"
    }
   },
   "outputs": [
    {
     "name": "stdout",
     "output_type": "stream",
     "text": [
      "==> Evaluating ...\n",
      "train  auc: 0.973  acc:0.809\n",
      "test  auc: 0.972  acc:0.807\n"
     ]
    }
   ],
   "source": [
    "# evaluation\n",
    "\n",
    "def test(split):\n",
    "    model.eval()\n",
    "    y_true = torch.tensor([])\n",
    "    y_score = torch.tensor([])\n",
    "    \n",
    "    data_loader = train_loader_at_eval if split == 'train' else test_loader\n",
    "\n",
    "    with torch.no_grad():\n",
    "        for inputs, targets in data_loader:\n",
    "            outputs = model(inputs)\n",
    "\n",
    "            if task == 'multi-label, binary-class':\n",
    "                targets = targets.to(torch.float32)\n",
    "                outputs = outputs.softmax(dim=-1)\n",
    "            else:\n",
    "                targets = targets.squeeze().long()\n",
    "                outputs = outputs.softmax(dim=-1)\n",
    "                targets = targets.float().resize_(len(targets), 1)\n",
    "\n",
    "            y_true = torch.cat((y_true, targets), 0)\n",
    "            y_score = torch.cat((y_score, outputs), 0)\n",
    "\n",
    "        y_true = y_true.numpy()\n",
    "        y_score = y_score.detach().numpy()\n",
    "        \n",
    "        evaluator = Evaluator(data_flag, split)\n",
    "        metrics = evaluator.evaluate(y_score)\n",
    "    \n",
    "        print('%s  auc: %.3f  acc:%.3f' % (split, *metrics))\n",
    "\n",
    "        \n",
    "print('==> Evaluating ...')\n",
    "test('train')\n",
    "test('test')"
   ]
  }
 ],
 "metadata": {
  "kernelspec": {
   "display_name": "Python 3",
   "language": "python",
   "name": "python3"
  },
  "language_info": {
   "codemirror_mode": {
    "name": "ipython",
    "version": 3
   },
   "file_extension": ".py",
   "mimetype": "text/x-python",
   "name": "python",
   "nbconvert_exporter": "python",
   "pygments_lexer": "ipython3",
   "version": "3.7.1"
  },
  "colab": {
   "name": "PneumoniaMNIST.ipynb",
   "provenance": [],
   "include_colab_link": true
  },
  "accelerator": "GPU",
  "gpuClass": "standard"
 },
 "nbformat": 4,
 "nbformat_minor": 0
}